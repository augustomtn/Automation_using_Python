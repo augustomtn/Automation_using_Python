{
 "cells": [
  {
   "cell_type": "markdown",
   "id": "54d48ab3",
   "metadata": {},
   "source": [
    "After install Anaconda and PyAutoGUI library through the prompt, let's start to code."
   ]
  },
  {
   "cell_type": "markdown",
   "id": "3d6bdbd1",
   "metadata": {},
   "source": [
    "Using the PyAutoGUI library, the objective is to backup a file located in the desktop to Google drive.\n",
    "First step is to take note of all the steps (human commands) where the user normaly does with the keyboard and the mouse."
   ]
  },
  {
   "cell_type": "code",
   "execution_count": 23,
   "id": "a6ae4f13",
   "metadata": {},
   "outputs": [
    {
     "data": {
      "text/plain": [
       "'OK'"
      ]
     },
     "execution_count": 23,
     "metadata": {},
     "output_type": "execute_result"
    }
   ],
   "source": [
    "import pyautogui as pag\n",
    "import time\n",
    "\n",
    "#Warn the user to do not touch the mouse or the keyboard\n",
    "pag.alert('The automation process is about to begin. Please, do not interfer. Do not touch in your mouse and do not press any key')\n",
    "\n",
    "#open the google drive through google chrome\n",
    "pag.press('winleft')\n",
    "pag.PAUSE = 0.75\n",
    "pag.write('google chrome')\n",
    "pag.press('enter')\n",
    "pag.PAUSE = 0.75\n",
    "pag.write('https://drive.google.com/drive/u/1/my-drive')\n",
    "pag.press('enter')\n",
    "\n",
    "#access the desktop\n",
    "pag.hotkey('winleft', 'd')\n",
    "time.sleep(1)\n",
    "\n",
    "#select the file\n",
    "pag.moveTo(1074, 345)\n",
    "pag.mouseDown()\n",
    "\n",
    "#drag till the ideal area\n",
    "pag.moveTo(864,674)\n",
    "time.sleep(1)\n",
    "\n",
    "#use the alt + table shortcut to open the drive screen\n",
    "pag.hotkey('alt', 'tab')\n",
    "time.sleep(1)\n",
    "\n",
    "#drop the file\n",
    "pag.mouseUp()\n",
    "time.sleep(5)\n",
    "\n",
    "#warn the user that the computer is already able to be used\n",
    "pag.alert('The process has finished. You are free to use your computer again')"
   ]
  },
  {
   "cell_type": "code",
   "execution_count": null,
   "id": "9c9766ed",
   "metadata": {},
   "outputs": [],
   "source": []
  },
  {
   "cell_type": "code",
   "execution_count": null,
   "id": "2b51012d",
   "metadata": {},
   "outputs": [],
   "source": []
  },
  {
   "cell_type": "code",
   "execution_count": null,
   "id": "a1704e3f",
   "metadata": {},
   "outputs": [],
   "source": []
  },
  {
   "cell_type": "code",
   "execution_count": null,
   "id": "3dfd07e1",
   "metadata": {},
   "outputs": [],
   "source": []
  }
 ],
 "metadata": {
  "kernelspec": {
   "display_name": "Python 3",
   "language": "python",
   "name": "python3"
  },
  "language_info": {
   "codemirror_mode": {
    "name": "ipython",
    "version": 3
   },
   "file_extension": ".py",
   "mimetype": "text/x-python",
   "name": "python",
   "nbconvert_exporter": "python",
   "pygments_lexer": "ipython3",
   "version": "3.8.8"
  }
 },
 "nbformat": 4,
 "nbformat_minor": 5
}
